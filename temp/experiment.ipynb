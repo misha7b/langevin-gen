{
 "cells": [
  {
   "cell_type": "markdown",
   "id": "5cf32b3e",
   "metadata": {},
   "source": [
    "This notebook explores ideas from **Generative Thermodynamic Computing**  \n",
    "([Whitelam, 2025](https://arxiv.org/abs/2506.15121v2))."
   ]
  },
  {
   "cell_type": "markdown",
   "id": "d4d330b6",
   "metadata": {},
   "source": [
    "\n",
    "The potential energy of the thermodynamic computer is given by\n",
    "\n",
    "$$\n",
    "V_\\theta(x) \n",
    "= \\sum_{i=1}^N \\left( J_2 x_i^2 + J_4 x_i^4 \\right) \n",
    "+ \\sum_{i=1}^N b_i x_i \n",
    "+ \\sum_{(i,j)} J_{ij} x_i x_j .\n",
    "$$"
   ]
  },
  {
   "cell_type": "code",
   "execution_count": 66,
   "id": "193fda67",
   "metadata": {},
   "outputs": [
    {
     "data": {
      "application/vnd.jupyter.widget-view+json": {
       "model_id": "b609ac88c8194d8d831c976b9fce7773",
       "version_major": 2,
       "version_minor": 0
      },
      "text/plain": [
       "interactive(children=(FloatSlider(value=1.0, description='J2', max=5.0, min=-5.0), FloatSlider(value=1.0, desc…"
      ]
     },
     "metadata": {},
     "output_type": "display_data"
    },
    {
     "data": {
      "text/plain": [
       "<function __main__.plot_energy(J2, J4)>"
      ]
     },
     "execution_count": 66,
     "metadata": {},
     "output_type": "execute_result"
    }
   ],
   "source": [
    "import numpy as np\n",
    "import matplotlib.pyplot as plt\n",
    "from mpl_toolkits.mplot3d import Axes3D\n",
    "import ipywidgets as w\n",
    "\n",
    "# Parameters\n",
    "#J2 = 1.0\n",
    "#J4 = 0.1\n",
    "\n",
    "b = np.array([0.5, -0.3])   # biases\n",
    "J = np.array([[0.0, -1.0],  # couplings\n",
    "              [-1.0, 0.0]])\n",
    "\n",
    "def V_theta(x1, x2, J2, J4):\n",
    "    \n",
    "    x = np.array([x1, x2])\n",
    "    \n",
    "    term_quadratic = J2 * np.sum(x**2)\n",
    "    term_quartic = J4 * np.sum(x**4)\n",
    "    term_linear  = np.dot(b, x)\n",
    "    term_interactions = np.dot(x, J @ x) / 2.0 # divide by 2 to avoid double counting (assuming J is symmetric)\n",
    "            \n",
    "    return term_quadratic + term_quartic + term_linear + term_interactions\n",
    "\n",
    "def plot_energy(J2, J4):\n",
    "    x1_vals = np.linspace(-2, 2, 200)\n",
    "    x2_vals = np.linspace(-2, 2, 200)\n",
    "    X1, X2 = np.meshgrid(x1_vals, x2_vals)\n",
    "    \n",
    "    V = np.vectorize(lambda x1, x2: V_theta(x1, x2, J2, J4))(X1, X2)\n",
    "\n",
    "    fig = plt.figure(figsize=(7,5))\n",
    "    ax = fig.add_subplot(111, projection=\"3d\")\n",
    "    ax.plot_surface(X1, X2, V, cmap=\"viridis\", alpha=0.9)\n",
    "    ax.set_xlabel(\"$x_1$\")\n",
    "    ax.set_ylabel(\"$x_2$\")\n",
    "    #ax.set_zlabel(\"$V_\\\\theta$\")\n",
    "    ax.set_title(f\"Energy landscape with J2={J2:.1f}, J4={J4:.1f}\")\n",
    "    \n",
    "w.interact(plot_energy,\n",
    "           J2=w.FloatSlider(value=1.0, min=-5, max=5, step=0.1, description=\"J2\"),\n",
    "           J4=w.FloatSlider(value=1.0, min=-5, max=5, step=0.1, description=\"J4\"))\n"
   ]
  },
  {
   "cell_type": "markdown",
   "id": "1632def3",
   "metadata": {},
   "source": [
    "## Experiment Replication"
   ]
  },
  {
   "cell_type": "code",
   "execution_count": 67,
   "id": "ef031b81",
   "metadata": {},
   "outputs": [],
   "source": [
    "import math, random, os, sys\n",
    "import numpy as np\n",
    "import torch\n",
    "from torch import nn\n",
    "from torchvision import datasets, transforms\n",
    "import matplotlib.pyplot as plt"
   ]
  },
  {
   "cell_type": "code",
   "execution_count": 68,
   "id": "8d58bfc2",
   "metadata": {},
   "outputs": [
    {
     "name": "stdout",
     "output_type": "stream",
     "text": [
      "Using device: cpu\n"
     ]
    }
   ],
   "source": [
    "device = torch.device(\"cuda\" if torch.cuda.is_available() else \"cpu\")\n",
    "print(\"Using device:\", device)"
   ]
  },
  {
   "cell_type": "code",
   "execution_count": 69,
   "id": "854629ec",
   "metadata": {},
   "outputs": [],
   "source": [
    "tfm = transforms.Compose([\n",
    "    transforms.ToTensor(),\n",
    "    transforms.Lambda(lambda x: x.view(-1)),  # flatten 28x28 → 784\n",
    "    transforms.Lambda(lambda v: (v - v.mean()) / (v.std() + 1e-8))\n",
    "])\n",
    "\n",
    "mnist = datasets.MNIST(root=\"./data\", train=True, download=True, transform=tfm)\n",
    "\n",
    "def sample_digit(digit, device=\"cpu\"):\n",
    "    \n",
    "    idxs = [i for i, (_, y) in enumerate(mnist) if y == digit]\n",
    "    i = random.choice(idxs)     \n",
    "    v, y = mnist[i]\n",
    "    return v.view(-1).to(device)\n",
    "     "
   ]
  },
  {
   "cell_type": "code",
   "execution_count": 70,
   "id": "1d16586e",
   "metadata": {},
   "outputs": [
    {
     "data": {
      "image/png": "[encoded data removed]",
      "text/plain": [
       "<Figure size 640x480 with 1 Axes>"
      ]
     },
     "metadata": {},
     "output_type": "display_data"
    }
   ],
   "source": [
    "plt.imshow(sample_digit(7).view(28,28), cmap=\"gray\")\n",
    "plt.show()"
   ]
  },
  {
   "cell_type": "code",
   "execution_count": 71,
   "id": "6468f210",
   "metadata": {},
   "outputs": [],
   "source": [
    "# Constants\n",
    "kBT = 1.0\n",
    "mu = 1.0\n",
    "J2 = 10.0\n",
    "J4 = 10.0\n",
    "\n",
    "# Chosen through trial and error\n",
    "bias_scale = 20.0\n",
    "\n",
    "Nv = 28*28  # number of visible units\n",
    "Nh = 512     # number of hidden units\n",
    "\n",
    "J_vh = torch.zeros(Nv, Nh, device=device)   # visible-to-hidden couplings\n",
    "J_hh = torch.zeros(Nh, Nh, device=device)   # hidden-to-hidden couplings\n",
    "b_h  = torch.zeros(Nh, device=device)       # hidden biases\n",
    "# no visible-to-visible couplings\n",
    "\n",
    "def energy_and_grad(x_v, x_h, b_v, b_h, J_vh, J_hh):\n",
    "  \n",
    "    b_v = b_v.to(x_v.device)\n",
    "    b_h = b_h.to(x_h.device)\n",
    "    \n",
    "    # Computer V_theta(x) and its gradients (autograd)\n",
    "    x_v = x_v.clone().detach().requires_grad_(True)\n",
    "    x_h = x_h.clone().detach().requires_grad_(True)\n",
    "    \n",
    "    # Energy terms\n",
    "    V = J2*(x_v.pow(2).sum() + x_h.pow(2).sum()) \\\n",
    "      + J4*(x_v.pow(4).sum() + x_h.pow(4).sum()) \n",
    "    V = V + (b_v @ x_v) + (b_h @ x_h) \n",
    "    V = V + (x_v @ J_vh @ x_h) + 0.5*(x_h @ J_hh @ x_h)\n",
    "    \n",
    "    V.backward()\n",
    "\n",
    "    g_v = x_v.grad.detach()\n",
    "    g_h = x_h.grad.detach()\n",
    "\n",
    "    return V.item(), g_v, g_h"
   ]
  },
  {
   "cell_type": "code",
   "execution_count": 72,
   "id": "af8b94a8",
   "metadata": {},
   "outputs": [],
   "source": [
    "def euler_maruyama_step(x_v, x_h, b_v, b_h, J_vh, J_hh, dt, kBT=1.0, mu=1.0):\n",
    "    \n",
    "    # Compute energy and gradients\n",
    "    V, g_v, g_h = energy_and_grad(x_v, x_h, b_v, b_h, J_vh, J_hh)\n",
    "    \n",
    "    # Gaussian noise\n",
    "    noise_v = torch.randn_like(x_v)\n",
    "    noise_h = torch.randn_like(x_h)\n",
    "    \n",
    "    sigma = torch.sqrt(torch.tensor(2.0 * mu * kBT * dt, device=x_v.device, dtype=x_v.dtype))\n",
    "\n",
    "    # Euler-Maruyama update\n",
    "    x_vn = x_v - mu * g_v * dt + sigma * noise_v\n",
    "    x_hn = x_h - mu * g_h * dt + sigma * noise_h\n",
    "    \n",
    "    return  x_vn, x_hn, V\n",
    "    "
   ]
  },
  {
   "cell_type": "code",
   "execution_count": 73,
   "id": "8f9fbdca",
   "metadata": {},
   "outputs": [],
   "source": [
    "# Projection (Random Projection) \n",
    "# TODO: try alternatives\n",
    "U = torch.randn(Nh, Nv, device=device) / math.sqrt(Nv)\n",
    "\n",
    "def fade_schedule(k: int, K: int) -> float:\n",
    "    \"\"\"Linear fade from 1 → 0 over K steps.\"\"\"\n",
    "    return 1.0 - (k / K)\n",
    "\n",
    "def visible_bias_schedule(P: torch.Tensor, k: int, K: int, scale=1.0) -> torch.Tensor:\n",
    "    return (scale * fade_schedule(k, K) * P).to(P.device)\n",
    "\n",
    "def hidden_bias_schedule(P: torch.Tensor, k: int, K: int, scale=1.0) -> torch.Tensor:\n",
    "    return (scale * fade_schedule(k, K) * (U @ P)).to(P.device)"
   ]
  },
  {
   "cell_type": "code",
   "execution_count": 74,
   "id": "a897ff3c",
   "metadata": {},
   "outputs": [],
   "source": [
    "# Forward noising trajectory\n",
    "\n",
    "def run_noising_trajectory(P, tf=2.5, dt=1e-3, snapshots=12, t_eq=0.5, use_trainable=False):\n",
    "    \n",
    "    K = int(tf / dt)\n",
    "    snap_every = max(1, K // snapshots)\n",
    "    \n",
    "    if use_trainable:\n",
    "        Jvh, Jhh = J_vh, J_hh   # trainable parameters\n",
    "    else:\n",
    "        Jvh = torch.zeros_like(J_vh)\n",
    "        Jhh = torch.zeros_like(J_hh)\n",
    "    \n",
    "    x_v = torch.randn(Nv, device=device)\n",
    "    x_h = torch.randn(Nh, device=device)\n",
    "\n",
    "\n",
    "    states_all = []\n",
    "    vis_snaps = []\n",
    "    \n",
    "    # Bias is scaled (why?)\n",
    "\n",
    "    # Reach equilibrium\n",
    "    K_eq = int(t_eq / dt)\n",
    "    for _ in range(K_eq):\n",
    "        b_v = (P * bias_scale).to(P.device)\n",
    "        b_h = ((U @ P) * bias_scale).to(P.device)    \n",
    "        x_v, x_h, V = euler_maruyama_step(x_v, x_h, b_v, b_h, Jvh, Jhh, dt, kBT, mu)\n",
    "\n",
    "    states_all.append((x_v.clone(), x_h.clone()))\n",
    "    for k in range(K):\n",
    "        b_v = visible_bias_schedule(P, k, K, scale=bias_scale)\n",
    "        b_h = hidden_bias_schedule(P, k, K, scale=bias_scale)\n",
    "\n",
    "        x_v, x_h, V = euler_maruyama_step(x_v, x_h, b_v, b_h, Jvh, Jhh, dt, kBT, mu)\n",
    "\n",
    "        states_all.append((x_v.clone(), x_h.clone()))\n",
    "        \n",
    "        if k % snap_every == 0 or k == K - 1:\n",
    "            vis_snaps.append(x_v.clone())\n",
    "\n",
    "        #if k % (K // 10) == 0:\n",
    "           #print(f\"Step {k}/{K}, V={V:.2f}\")\n",
    "\n",
    "    return states_all, vis_snaps\n",
    "    "
   ]
  },
  {
   "cell_type": "code",
   "execution_count": 75,
   "id": "f3987b9e",
   "metadata": {},
   "outputs": [
    {
     "data": {
      "image/png": "[encoded data removed]",
      "text/plain": [
       "<Figure size 2100x200 with 14 Axes>"
      ]
     },
     "metadata": {},
     "output_type": "display_data"
    }
   ],
   "source": [
    "digit_id = 7\n",
    "P = sample_digit(digit_id)\n",
    "\n",
    "_, snaps = run_noising_trajectory(P, tf=2.5, dt=1e-3, snapshots=12)\n",
    "\n",
    "\n",
    "plt.figure(figsize=(1.5*len(snaps), 2))\n",
    "for i, state in enumerate(snaps):\n",
    "    ax = plt.subplot(1, len(snaps), i+1)\n",
    "    ax.imshow(state.view(28, 28).detach().cpu().numpy(), cmap=\"gray\")\n",
    "    ax.axis(\"off\")\n",
    "plt.suptitle(f\"Noising trajectory for digit {digit_id}\")\n",
    "plt.show()"
   ]
  },
  {
   "cell_type": "code",
   "execution_count": 76,
   "id": "a988ce22",
   "metadata": {},
   "outputs": [],
   "source": [
    "# Reverse step negative log-likelihood\n",
    "\n",
    "\n",
    "\n",
    "def reverse_step_nll(\n",
    "    x_v, x_h,                # state at time t\n",
    "    x_v_next, x_h_next,      # state at time t+dt (x')\n",
    "    J_vh, J_hh, b_h,         # trainable params of the reverse model\n",
    "    dt, mu=1.0, kBT=1.0, J2=10.0, J4=10.0\n",
    "):\n",
    "\n",
    "    b_v_trainable = torch.zeros_like(x_v_next)  # no visible bias in the reverse model\n",
    "    _, g_v_next, g_h_next = energy_and_grad(\n",
    "        x_v_next, x_h_next, b_v_trainable, b_h, J_vh, J_hh\n",
    "    )\n",
    "    \n",
    "    dx_v = x_v_next - x_v\n",
    "    dx_h = x_h_next - x_h\n",
    "    \n",
    "    r_v = -dx_v + mu * g_v_next * dt\n",
    "    r_h = -dx_h + mu * g_h_next * dt\n",
    "    \n",
    "    denominator = 4.0 * mu * kBT * dt\n",
    "    nll = (r_v.pow(2).sum() + r_h.pow(2).sum()) / denominator\n",
    "    \n",
    "    s_v = r_v / (2.0 * kBT)\n",
    "    s_h = r_h / (2.0 * kBT)\n",
    "    \n",
    "    return nll, (s_v, s_h), (x_v_next, x_h_next)\n",
    "    \n"
   ]
  },
  {
   "cell_type": "code",
   "execution_count": 77,
   "id": "5977f395",
   "metadata": {},
   "outputs": [],
   "source": [
    "def reverse_step_gradients(s_v, s_h, x_v_next, x_h_next):\n",
    "    \n",
    "    # Visible–hidden couplings (Nv x Nh)\n",
    "    grad_Jvh = torch.einsum(\"i,j->ij\", s_v, x_h_next) \\\n",
    "             + torch.einsum(\"i,j->ij\", x_v_next, s_h)\n",
    "\n",
    "    # Hidden–hidden couplings (Nh x Nh)\n",
    "    outer = torch.einsum(\"i,j->ij\", s_h, x_h_next)\n",
    "    grad_Jhh = 0.5 * (outer + outer.T)\n",
    "\n",
    "    # Hidden biases \n",
    "    grad_bh = s_h.clone()\n",
    "    \n",
    "    return grad_Jvh, grad_Jhh, grad_bh\n",
    "    \n"
   ]
  },
  {
   "cell_type": "code",
   "execution_count": null,
   "id": "ed3f811b",
   "metadata": {},
   "outputs": [],
   "source": [
    "P = sample_digit(0)\n",
    "\n",
    "def train_model(num_epochs=1, num_digits=100, dt=1e-3, lr=1e-3):\n",
    "    global J_vh, J_hh, b_h \n",
    "    \n",
    "    losses = []\n",
    "\n",
    "    for epoch in range(num_epochs):\n",
    "        epoch_loss = 0.0\n",
    "\n",
    "        print(f\"\\n=== Epoch {epoch+1}/{num_epochs} ===\")\n",
    "\n",
    "        for d in range(num_digits):\n",
    "            \n",
    "            #P = sample_digit(0)\n",
    "\n",
    "            states_all, _ = run_noising_trajectory(P, tf=0.5, dt=dt, use_trainable=False)\n",
    "\n",
    "            total_nll = 0.0\n",
    "            grad_Jvh_accum = torch.zeros_like(J_vh)\n",
    "            grad_Jhh_accum = torch.zeros_like(J_hh)\n",
    "            grad_bh_accum  = torch.zeros_like(b_h)\n",
    "\n",
    "            num_steps = len(states_all) - 1\n",
    "            for step, ((x_v, x_h), (x_v_next, x_h_next)) in enumerate(zip(states_all[:-1], states_all[1:])):\n",
    "                nll, (s_v, s_h), (xv_next, xh_next) = reverse_step_nll(\n",
    "                    x_v, x_h, x_v_next, x_h_next,\n",
    "                    J_vh, J_hh, b_h, dt, mu, kBT, J2, J4\n",
    "                )\n",
    "                dJvh, dJhh, dbh = reverse_step_gradients(s_v, s_h, xv_next, xh_next)\n",
    "\n",
    "                total_nll += nll.detach()\n",
    "                grad_Jvh_accum += dJvh\n",
    "                grad_Jhh_accum += dJhh\n",
    "                grad_bh_accum  += dbh\n",
    "\n",
    "                if step % (num_steps // 5) == 0:\n",
    "                    print(f\"  Digit {d+1}/{num_digits}, Step {step}/{num_steps}, NLL={nll.item():.2f}\")\n",
    "\n",
    "            J_vh -= lr * grad_Jvh_accum\n",
    "            J_hh -= lr * grad_Jhh_accum\n",
    "            b_h  -= lr * grad_bh_accum\n",
    "            \n",
    "            print(\"||J_vh||:\", J_vh.norm().item(),\n",
    "            \"||J_hh||:\", J_hh.norm().item(),\n",
    "            \"||b_h||:\", b_h.norm().item())\n",
    "\n",
    "\n",
    "\n",
    "            avg_nll = (total_nll / num_steps).item()\n",
    "            epoch_loss += avg_nll\n",
    "\n",
    "        # average loss per digit\n",
    "        epoch_loss /= num_digits\n",
    "        losses.append(epoch_loss)\n",
    "\n",
    "        normalized_loss = epoch_loss / (Nv + Nh)\n",
    "        print(f\"Epoch {epoch+1}/{num_epochs} complete | Avg NLL={epoch_loss:.2f}, Normalized={normalized_loss:.4f}\")\n",
    "\n",
    "    return J_vh, J_hh, b_h, losses\n"
   ]
  },
  {
   "cell_type": "code",
   "execution_count": null,
   "id": "729c78ca",
   "metadata": {},
   "outputs": [
    {
     "ename": "RuntimeError",
     "evalue": "element 0 of tensors does not require grad and does not have a grad_fn",
     "output_type": "error",
     "traceback": [
      "\u001b[31m---------------------------------------------------------------------------\u001b[39m",
      "\u001b[31mRuntimeError\u001b[39m                              Traceback (most recent call last)",
      "\u001b[36mCell\u001b[39m\u001b[36m \u001b[39m\u001b[32mIn[79]\u001b[39m\u001b[32m, line 20\u001b[39m\n\u001b[32m     14\u001b[39m nll, (s_v, s_h), (xv_next, xh_next) = reverse_step_nll(\n\u001b[32m     15\u001b[39m     x_v, x_h, x_v_next, x_h_next,\n\u001b[32m     16\u001b[39m     J_vh, J_hh, b_h, dt=\u001b[32m1e-4\u001b[39m, mu=mu, kBT=kBT, J2=J2, J4=J4\n\u001b[32m     17\u001b[39m )\n\u001b[32m     19\u001b[39m \u001b[38;5;66;03m# Autograd gradients\u001b[39;00m\n\u001b[32m---> \u001b[39m\u001b[32m20\u001b[39m grads = \u001b[43mtorch\u001b[49m\u001b[43m.\u001b[49m\u001b[43mautograd\u001b[49m\u001b[43m.\u001b[49m\u001b[43mgrad\u001b[49m\u001b[43m(\u001b[49m\u001b[43mnll\u001b[49m\u001b[43m,\u001b[49m\u001b[43m \u001b[49m\u001b[43m[\u001b[49m\u001b[43mJ_vh\u001b[49m\u001b[43m,\u001b[49m\u001b[43m \u001b[49m\u001b[43mJ_hh\u001b[49m\u001b[43m,\u001b[49m\u001b[43m \u001b[49m\u001b[43mb_h\u001b[49m\u001b[43m]\u001b[49m\u001b[43m,\u001b[49m\u001b[43m \u001b[49m\u001b[43mretain_graph\u001b[49m\u001b[43m=\u001b[49m\u001b[38;5;28;43;01mTrue\u001b[39;49;00m\u001b[43m,\u001b[49m\u001b[43m \u001b[49m\u001b[43mallow_unused\u001b[49m\u001b[43m=\u001b[49m\u001b[38;5;28;43;01mTrue\u001b[39;49;00m\u001b[43m)\u001b[49m\n\u001b[32m     21\u001b[39m grad_Jvh_auto, grad_Jhh_auto, grad_bh_auto = grads\n\u001b[32m     23\u001b[39m \u001b[38;5;66;03m# Manual gradients\u001b[39;00m\n",
      "\u001b[36mFile \u001b[39m\u001b[32m/opt/miniconda3/envs/y4project/lib/python3.11/site-packages/torch/autograd/__init__.py:503\u001b[39m, in \u001b[36mgrad\u001b[39m\u001b[34m(outputs, inputs, grad_outputs, retain_graph, create_graph, only_inputs, allow_unused, is_grads_batched, materialize_grads)\u001b[39m\n\u001b[32m    499\u001b[39m     result = _vmap_internals._vmap(vjp, \u001b[32m0\u001b[39m, \u001b[32m0\u001b[39m, allow_none_pass_through=\u001b[38;5;28;01mTrue\u001b[39;00m)(\n\u001b[32m    500\u001b[39m         grad_outputs_\n\u001b[32m    501\u001b[39m     )\n\u001b[32m    502\u001b[39m \u001b[38;5;28;01melse\u001b[39;00m:\n\u001b[32m--> \u001b[39m\u001b[32m503\u001b[39m     result = \u001b[43m_engine_run_backward\u001b[49m\u001b[43m(\u001b[49m\n\u001b[32m    504\u001b[39m \u001b[43m        \u001b[49m\u001b[43moutputs\u001b[49m\u001b[43m,\u001b[49m\n\u001b[32m    505\u001b[39m \u001b[43m        \u001b[49m\u001b[43mgrad_outputs_\u001b[49m\u001b[43m,\u001b[49m\n\u001b[32m    506\u001b[39m \u001b[43m        \u001b[49m\u001b[43mretain_graph\u001b[49m\u001b[43m,\u001b[49m\n\u001b[32m    507\u001b[39m \u001b[43m        \u001b[49m\u001b[43mcreate_graph\u001b[49m\u001b[43m,\u001b[49m\n\u001b[32m    508\u001b[39m \u001b[43m        \u001b[49m\u001b[43minputs\u001b[49m\u001b[43m,\u001b[49m\n\u001b[32m    509\u001b[39m \u001b[43m        \u001b[49m\u001b[43mallow_unused\u001b[49m\u001b[43m,\u001b[49m\n\u001b[32m    510\u001b[39m \u001b[43m        \u001b[49m\u001b[43maccumulate_grad\u001b[49m\u001b[43m=\u001b[49m\u001b[38;5;28;43;01mFalse\u001b[39;49;00m\u001b[43m,\u001b[49m\n\u001b[32m    511\u001b[39m \u001b[43m    \u001b[49m\u001b[43m)\u001b[49m\n\u001b[32m    512\u001b[39m \u001b[38;5;28;01mif\u001b[39;00m materialize_grads:\n\u001b[32m    513\u001b[39m     \u001b[38;5;28;01mif\u001b[39;00m \u001b[38;5;28many\u001b[39m(\n\u001b[32m    514\u001b[39m         result[i] \u001b[38;5;129;01mis\u001b[39;00m \u001b[38;5;28;01mNone\u001b[39;00m \u001b[38;5;129;01mand\u001b[39;00m \u001b[38;5;129;01mnot\u001b[39;00m is_tensor_like(inputs[i])\n\u001b[32m    515\u001b[39m         \u001b[38;5;28;01mfor\u001b[39;00m i \u001b[38;5;129;01min\u001b[39;00m \u001b[38;5;28mrange\u001b[39m(\u001b[38;5;28mlen\u001b[39m(inputs))\n\u001b[32m    516\u001b[39m     ):\n",
      "\u001b[36mFile \u001b[39m\u001b[32m/opt/miniconda3/envs/y4project/lib/python3.11/site-packages/torch/autograd/graph.py:829\u001b[39m, in \u001b[36m_engine_run_backward\u001b[39m\u001b[34m(t_outputs, *args, **kwargs)\u001b[39m\n\u001b[32m    827\u001b[39m     unregister_hooks = _register_logging_hooks_on_whole_graph(t_outputs)\n\u001b[32m    828\u001b[39m \u001b[38;5;28;01mtry\u001b[39;00m:\n\u001b[32m--> \u001b[39m\u001b[32m829\u001b[39m     \u001b[38;5;28;01mreturn\u001b[39;00m \u001b[43mVariable\u001b[49m\u001b[43m.\u001b[49m\u001b[43m_execution_engine\u001b[49m\u001b[43m.\u001b[49m\u001b[43mrun_backward\u001b[49m\u001b[43m(\u001b[49m\u001b[43m  \u001b[49m\u001b[38;5;66;43;03m# Calls into the C++ engine to run the backward pass\u001b[39;49;00m\n\u001b[32m    830\u001b[39m \u001b[43m        \u001b[49m\u001b[43mt_outputs\u001b[49m\u001b[43m,\u001b[49m\u001b[43m \u001b[49m\u001b[43m*\u001b[49m\u001b[43margs\u001b[49m\u001b[43m,\u001b[49m\u001b[43m \u001b[49m\u001b[43m*\u001b[49m\u001b[43m*\u001b[49m\u001b[43mkwargs\u001b[49m\n\u001b[32m    831\u001b[39m \u001b[43m    \u001b[49m\u001b[43m)\u001b[49m  \u001b[38;5;66;03m# Calls into the C++ engine to run the backward pass\u001b[39;00m\n\u001b[32m    832\u001b[39m \u001b[38;5;28;01mfinally\u001b[39;00m:\n\u001b[32m    833\u001b[39m     \u001b[38;5;28;01mif\u001b[39;00m attach_logging_hooks:\n",
      "\u001b[31mRuntimeError\u001b[39m: element 0 of tensors does not require grad and does not have a grad_fn"
     ]
    }
   ],
   "source": [
    "'''\n",
    "\n",
    "# Compare manual and autograd gradients\n",
    "\n",
    "J_vh = torch.randn(Nv, Nh, device=device, requires_grad=True) * 0.01\n",
    "J_hh = torch.randn(Nh, Nh, device=device, requires_grad=True) * 0.01\n",
    "b_h  = torch.zeros(Nh, device=device, requires_grad=True)\n",
    "\n",
    "P = sample_digit(0)\n",
    "states_all, _ = run_noising_trajectory(P, tf=0.1, dt=1e-4, use_trainable=False)\n",
    "\n",
    "x_v, x_h = states_all[0]\n",
    "x_v_next, x_h_next = states_all[1]\n",
    "\n",
    "\n",
    "nll, (s_v, s_h), (xv_next, xh_next) = reverse_step_nll(\n",
    "    x_v, x_h, x_v_next, x_h_next,\n",
    "    J_vh, J_hh, b_h, dt=1e-4, mu=mu, kBT=kBT, J2=J2, J4=J4\n",
    ")\n",
    "\n",
    "# Autograd gradients\n",
    "grads = torch.autograd.grad(nll, [J_vh, J_hh, b_h], retain_graph=True, allow_unused=True)\n",
    "grad_Jvh_auto, grad_Jhh_auto, grad_bh_auto = grads\n",
    "\n",
    "# Manual gradients\n",
    "grad_Jvh_manual, grad_Jhh_manual, grad_bh_manual = reverse_step_gradients(s_v, s_h, xv_next, xh_next)\n",
    "\n",
    "print(\"Auto vs Manual norms:\")\n",
    "print(\"J_vh:\", grad_Jvh_auto.norm().item(), grad_Jvh_manual.norm().item())\n",
    "print(\"J_hh:\", grad_Jhh_auto.norm().item(), grad_Jhh_manual.norm().item())\n",
    "print(\"b_h :\", grad_bh_auto.norm().item(),  grad_bh_manual.norm().item())\n",
    "'''"
   ]
  },
  {
   "cell_type": "code",
   "execution_count": 83,
   "id": "0b6cfcdc",
   "metadata": {},
   "outputs": [
    {
     "name": "stdout",
     "output_type": "stream",
     "text": [
      "\n",
      "=== Epoch 1/2 ===\n",
      "  Digit 1/1, Step 0/5000, NLL=671.40\n",
      "  Digit 1/1, Step 1000/5000, NLL=634.24\n",
      "  Digit 1/1, Step 2000/5000, NLL=638.17\n",
      "  Digit 1/1, Step 3000/5000, NLL=675.51\n",
      "  Digit 1/1, Step 4000/5000, NLL=641.44\n",
      "||J_vh||: 3.8634495735168457 ||J_hh||: 1.6488209962844849 ||b_h||: 0.1966570019721985\n",
      "Epoch 1/2 complete | Avg NLL=652.45, Normalized=0.5034\n",
      "\n",
      "=== Epoch 2/2 ===\n",
      "  Digit 1/1, Step 0/5000, NLL=667.10\n",
      "  Digit 1/1, Step 1000/5000, NLL=602.29\n",
      "  Digit 1/1, Step 2000/5000, NLL=634.93\n",
      "  Digit 1/1, Step 3000/5000, NLL=647.31\n",
      "  Digit 1/1, Step 4000/5000, NLL=696.75\n",
      "||J_vh||: 8.182855606079102 ||J_hh||: 3.5390000343322754 ||b_h||: 0.42371857166290283\n",
      "Epoch 2/2 complete | Avg NLL=654.73, Normalized=0.5052\n"
     ]
    }
   ],
   "source": [
    "J_vh = torch.randn(Nv, Nh, device=device) * 0.01 / np.sqrt(Nv + Nh)\n",
    "J_hh = torch.randn(Nh, Nh, device=device) * 0.01 / np.sqrt(Nh)\n",
    "J_hh = 0.5 * (J_hh + J_hh.T)  \n",
    "b_h = torch.zeros(Nh, device=device)\n",
    "\n",
    "J_vh, J_hh, b_h, losses = train_model(\n",
    "    num_epochs=2,     \n",
    "    num_digits=1,     \n",
    "    dt=1e-4,         \n",
    "    lr=3e-3 \n",
    ")     "
   ]
  },
  {
   "cell_type": "code",
   "execution_count": null,
   "id": "cd8a82ce",
   "metadata": {},
   "outputs": [],
   "source": [
    "torch.save({\n",
    "    \"J_vh\": J_vh,\n",
    "    \"J_hh\": J_hh,\n",
    "    \"b_h\": b_h,\n",
    "    \"losses\": losses\n",
    "}, \"thermo_gen_model_test.pth\")\n"
   ]
  },
  {
   "cell_type": "code",
   "execution_count": 1,
   "id": "98de967c",
   "metadata": {},
   "outputs": [],
   "source": [
    "def run_generation(J_vh, J_hh, b_h, tf=2.5, dt=1e-3, snapshots=12):\n",
    "    \n",
    "    K = int(tf / dt)\n",
    "    snap_every = max(1, K // snapshots)\n",
    "\n",
    "    x_v = torch.randn(Nv)\n",
    "    x_h = torch.randn(Nh)\n",
    "\n",
    "    vis_states = []\n",
    "\n",
    "    for k in range(K):\n",
    "        b_v = torch.zeros(Nv)  \n",
    "\n",
    "        x_v, x_h, V = euler_maruyama_step(\n",
    "            x_v, x_h, b_v, b_h, J_vh, J_hh, dt, kBT, mu\n",
    "        )\n",
    "\n",
    "        if k % snap_every == 0 or k == K - 1:\n",
    "            vis_states.append(x_v.clone())\n",
    "\n",
    "    return vis_states"
   ]
  },
  {
   "cell_type": "code",
   "execution_count": null,
   "id": "4db4f927",
   "metadata": {},
   "outputs": [
    {
     "data": {
      "image/png": "[encoded data removed]",
      "text/plain": [
       "<Figure size 2100x200 with 14 Axes>"
      ]
     },
     "metadata": {},
     "output_type": "display_data"
    }
   ],
   "source": [
    "samples = run_generation(J_vh, J_hh, b_h, tf=2.5, dt=1e-3, snapshots=12)\n",
    "\n",
    "plt.figure(figsize=(1.5*len(samples), 2))\n",
    "for i, state in enumerate(samples):\n",
    "    ax = plt.subplot(1, len(samples), i+1)\n",
    "    ax.imshow(state.view(28, 28).detach().numpy(), cmap=\"gray\")\n",
    "    ax.axis(\"off\")\n",
    "plt.suptitle(\"Generated trajectory (trained model)\")\n",
    "plt.show()"
   ]
  }
 ],
 "metadata": {
  "kernelspec": {
   "display_name": "y4project",
   "language": "python",
   "name": "python3"
  },
  "language_info": {
   "codemirror_mode": {
    "name": "ipython",
    "version": 3
   },
   "file_extension": ".py",
   "mimetype": "text/x-python",
   "name": "python",
   "nbconvert_exporter": "python",
   "pygments_lexer": "ipython3",
   "version": "3.11.13"
  }
 },
 "nbformat": 4,
 "nbformat_minor": 5
}
