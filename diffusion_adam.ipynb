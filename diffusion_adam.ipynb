{
 "cells": [
  {
   "cell_type": "code",
   "execution_count": 1,
   "id": "50da1b59",
   "metadata": {},
   "outputs": [],
   "source": [
    "import math, random, os, sys\n",
    "import numpy as np\n",
    "import torch\n",
    "from torch import nn\n",
    "from torchvision import datasets, transforms\n",
    "import matplotlib.pyplot as plt"
   ]
  },
  {
   "cell_type": "code",
   "execution_count": 2,
   "id": "aca56422",
   "metadata": {},
   "outputs": [],
   "source": [
    "torch.manual_seed(0)\n",
    "np.random.seed(0)\n",
    "random.seed(0)\n",
    "\n",
    "device = torch.device(\"cuda\" if torch.cuda.is_available() else \"cpu\")\n",
    "dtype  = torch.float32"
   ]
  },
  {
   "cell_type": "code",
   "execution_count": null,
   "id": "3cbce1e0",
   "metadata": {},
   "outputs": [],
   "source": [
    "# load MNIST\n",
    "tfm = transforms.Compose([\n",
    "    transforms.ToTensor(),\n",
    "    transforms.Lambda(lambda x: x.view(-1)),  # flatten 28x28 → 784\n",
    "    transforms.Lambda(lambda v: (v - v.mean()) / (v.std() + 1e-8))\n",
    "])\n",
    "\n",
    "mnist = datasets.MNIST(root=\"./data\", train=True, download=True, transform=tfm)\n",
    "\n",
    "def sample_digit(digit, device=\"cpu\"):\n",
    "    \n",
    "    idxs = [i for i, (_, y) in enumerate(mnist) if y == digit]\n",
    "    i = random.choice(idxs)     \n",
    "    v, y = mnist[i]\n",
    "    return v.view(-1).to(device)"
   ]
  },
  {
   "cell_type": "code",
   "execution_count": 5,
   "id": "fd26e915",
   "metadata": {},
   "outputs": [
    {
     "data": {
      "image/png": "[encoded data removed]",
      "text/plain": [
       "<Figure size 640x480 with 1 Axes>"
      ]
     },
     "metadata": {},
     "output_type": "display_data"
    }
   ],
   "source": [
    "plt.imshow(sample_digit(7).view(28,28), cmap=\"gray\")\n",
    "plt.show()"
   ]
  },
  {
   "cell_type": "code",
   "execution_count": null,
   "id": "94b6635c",
   "metadata": {},
   "outputs": [],
   "source": [
    "# Constants\n",
    "kBT = 1.0\n",
    "mu = 1.0\n",
    "J2 = 10.0\n",
    "J4 = 10.0\n",
    "\n",
    "# Chosen through trial and error\n",
    "bias_scale = 20.0\n",
    "\n",
    "Nv = 28*28  # number of visible units\n",
    "Nh = 512     # number of hidden units\n",
    "\n",
    "J_vh = torch.zeros(Nv, Nh, device=device)   # visible-to-hidden couplings\n",
    "J_hh = torch.zeros(Nh, Nh, device=device)   # hidden-to-hidden couplings\n",
    "b_h  = torch.zeros(Nh, device=device)       # hidden biases\n",
    "# no visible-to-visible couplings\n",
    "\n",
    "def energy_and_grad(x_v, x_h, b_v, b_h, J_vh, J_hh):\n",
    "  \n",
    "    b_v = b_v.to(x_v.device)\n",
    "    b_h = b_h.to(x_h.device)\n",
    "    \n",
    "    # Compute V_theta(x) and its gradients (autograd)\n",
    "    x_v = x_v.clone().detach().requires_grad_(True)\n",
    "    x_h = x_h.clone().detach().requires_grad_(True)\n",
    "    \n",
    "    # Energy terms\n",
    "    V = J2*(x_v.pow(2).sum() + x_h.pow(2).sum()) \\\n",
    "      + J4*(x_v.pow(4).sum() + x_h.pow(4).sum()) \n",
    "    V = V + (b_v @ x_v) + (b_h @ x_h) \n",
    "    V = V + (x_v @ J_vh @ x_h) + 0.5*(x_h @ J_hh @ x_h)\n",
    "    \n",
    "    V.backward()\n",
    "\n",
    "    g_v = x_v.grad.detach()\n",
    "    g_h = x_h.grad.detach()\n",
    "\n",
    "    return V.item(), g_v, g_h"
   ]
  },
  {
   "cell_type": "code",
   "execution_count": 6,
   "id": "da6bcf88",
   "metadata": {},
   "outputs": [],
   "source": [
    "def euler_maruyama_step(x_v, x_h, b_v, b_h, J_vh, J_hh, dt, kBT=1.0, mu=1.0):\n",
    "    \n",
    "    # Compute energy and gradients\n",
    "    V, g_v, g_h = energy_and_grad(x_v, x_h, b_v, b_h, J_vh, J_hh)\n",
    "    \n",
    "    # Gaussian noise\n",
    "    noise_v = torch.randn_like(x_v)\n",
    "    noise_h = torch.randn_like(x_h)\n",
    "    \n",
    "    sigma = torch.sqrt(torch.tensor(2.0 * mu * kBT * dt, device=x_v.device, dtype=x_v.dtype))\n",
    "\n",
    "    # Euler-Maruyama update\n",
    "    x_vn = x_v - mu * g_v * dt + sigma * noise_v\n",
    "    x_hn = x_h - mu * g_h * dt + sigma * noise_h\n",
    "    \n",
    "    return  x_vn, x_hn, V"
   ]
  },
  {
   "cell_type": "code",
   "execution_count": 8,
   "id": "0619defb",
   "metadata": {},
   "outputs": [],
   "source": [
    "# Projection (Random Projection) \n",
    "# TODO: try alternatives\n",
    "U = torch.randn(Nh, Nv, device=device) / math.sqrt(Nv)\n",
    "\n",
    "def fade_schedule(k: int, K: int) -> float:\n",
    "    \"\"\"Linear fade from 1 → 0 over K steps.\"\"\"\n",
    "    return 1.0 - (k / K)\n",
    "\n",
    "def visible_bias_schedule(P: torch.Tensor, k: int, K: int, scale=1.0) -> torch.Tensor:\n",
    "    return (scale * fade_schedule(k, K) * P).to(P.device)\n",
    "\n",
    "# Project visible bias onto hidden units\n",
    "def hidden_bias_schedule(P: torch.Tensor, k: int, K: int, scale=1.0) -> torch.Tensor:\n",
    "    return (scale * fade_schedule(k, K) * (U @ P)).to(P.device)"
   ]
  },
  {
   "cell_type": "code",
   "execution_count": null,
   "id": "8ca475a6",
   "metadata": {},
   "outputs": [],
   "source": [
    "# Forward noising trajectory\n",
    "\n",
    "def run_noising_trajectory(P, tf=2.5, dt=1e-3, snapshots=12, t_eq=0.5, use_trainable=False):\n",
    "    \n",
    "    K = int(tf / dt)\n",
    "    snap_every = max(1, K // snapshots)\n",
    "    \n",
    "    if use_trainable:\n",
    "        Jvh, Jhh = J_vh, J_hh   # trainable parameters\n",
    "    else:\n",
    "        Jvh = torch.zeros_like(J_vh)\n",
    "        Jhh = torch.zeros_like(J_hh)\n",
    "    \n",
    "    x_v = torch.randn(Nv, device=device)\n",
    "    x_h = torch.randn(Nh, device=device)\n",
    "\n",
    "    states_all = []\n",
    "    vis_snaps = []\n",
    "    \n",
    "    # Reach equilibrium\n",
    "    K_eq = int(t_eq / dt)\n",
    "    for _ in range(K_eq):\n",
    "        b_v = (P * bias_scale).to(P.device)\n",
    "        b_h = ((U @ P) * bias_scale).to(P.device)    \n",
    "        x_v, x_h, V = euler_maruyama_step(x_v, x_h, b_v, b_h, Jvh, Jhh, dt, kBT, mu)\n",
    "\n",
    "    states_all.append((x_v.clone(), x_h.clone()))\n",
    "    for k in range(K):\n",
    "        b_v = visible_bias_schedule(P, k, K, scale=bias_scale)\n",
    "        b_h = hidden_bias_schedule(P, k, K, scale=bias_scale)\n",
    "\n",
    "        x_v, x_h, V = euler_maruyama_step(x_v, x_h, b_v, b_h, Jvh, Jhh, dt, kBT, mu)\n",
    "\n",
    "        states_all.append((x_v.clone(), x_h.clone()))\n",
    "        \n",
    "        if k % snap_every == 0 or k == K - 1:\n",
    "            vis_snaps.append(x_v.clone())\n",
    "\n",
    "    return states_all, vis_snaps"
   ]
  }
 ],
 "metadata": {
  "kernelspec": {
   "display_name": "y4project",
   "language": "python",
   "name": "python3"
  },
  "language_info": {
   "codemirror_mode": {
    "name": "ipython",
    "version": 3
   },
   "file_extension": ".py",
   "mimetype": "text/x-python",
   "name": "python",
   "nbconvert_exporter": "python",
   "pygments_lexer": "ipython3",
   "version": "3.11.13"
  }
 },
 "nbformat": 4,
 "nbformat_minor": 5
}
